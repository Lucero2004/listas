{
  "nbformat": 4,
  "nbformat_minor": 0,
  "metadata": {
    "colab": {
      "provenance": [],
      "authorship_tag": "ABX9TyP8soO2FE+lcP8cxUsWG7BF",
      "include_colab_link": true
    },
    "kernelspec": {
      "name": "python3",
      "display_name": "Python 3"
    },
    "language_info": {
      "name": "python"
    }
  },
  "cells": [
    {
      "cell_type": "markdown",
      "metadata": {
        "id": "view-in-github",
        "colab_type": "text"
      },
      "source": [
        "<a href=\"https://colab.research.google.com/github/Lucero2004/listas/blob/main/listas.ipynb\" target=\"_parent\"><img src=\"https://colab.research.google.com/assets/colab-badge.svg\" alt=\"Open In Colab\"/></a>"
      ]
    },
    {
      "cell_type": "code",
      "execution_count": null,
      "metadata": {
        "id": "5OP7ofPMX4BK"
      },
      "outputs": [],
      "source": [
        "# creacion de listas usando el constructor list() sin parametros\n",
        "lista_3=list()\n",
        "print(lista_3)\n",
        "\n",
        "lista_4=list(range(10))\n",
        "print(lista_4)\n",
        "\n",
        "lista_5=list(\"UIS Socorro\")\n",
        "print(lista_5)\n",
        "\n",
        "frase=\"UIS no es uno, somos todos. Somos todos los que estamos en la lucha\"\n",
        "\n",
        "lista_6=frase.split()\n",
        "print(lista_6)\n",
        "\n",
        "\n",
        "\n"
      ]
    },
    {
      "cell_type": "code",
      "source": [
        "# funciones asociadas a las listas\n",
        "dias_laborables=[\"Lunes\",\"Martes\",\"Miercoles\",\"Jueves\",\"Viernes\"]\n",
        "colores_primarios=[\"rojo\",\"amarillo\",\"azul\"]\n",
        "pares=list(range(0,30,2))\n",
        "\n",
        "print(dias_laborables)\n",
        "dias_laborables.append(\"Sabado\")\n",
        "print(dias_laborables)\n",
        "print(f\"El lunes aparece{dias_laborables.count('Lunes')} veces\")\n",
        "\n",
        "#Agregar un elemento al principio de la lista\n",
        "colores_primarios.insert(0,'bllanco')\n",
        "print(colores_primarios)\n",
        "\n",
        "#quitar un elemnto de la lista\n",
        "dias_laborables.remove('Sabado')\n",
        "print(dias_laborables)"
      ],
      "metadata": {
        "id": "rFP7H1udfFOU"
      },
      "execution_count": null,
      "outputs": []
    },
    {
      "cell_type": "code",
      "source": [
        "#Tuplas\n",
        "\n"
      ],
      "metadata": {
        "id": "5bKAbzhdg8_s"
      },
      "execution_count": null,
      "outputs": []
    }
  ]
}